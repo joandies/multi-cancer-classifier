{
 "cells": [
  {
   "cell_type": "markdown",
   "id": "5730bc29-7fbc-4587-870c-4f0b7340f521",
   "metadata": {},
   "source": [
    "# Exploratory Data Analysis\n",
    "In this notebook, we perform an exploratory data analysis (EDA) of the cervical cancer dataset. The goal is to understand the structure of the data, the distribution of the classes, and to visualize some of the images to make sure that the dataset is well organized. This analysis will also help us identify potential problems before training the model."
   ]
  },
  {
   "cell_type": "code",
   "execution_count": null,
   "id": "92b11f3a-dc3e-45bb-ac70-76e9936d3bcc",
   "metadata": {},
   "outputs": [],
   "source": [
    "# Imports\n",
    "import os\n",
    "import random\n",
    "import matplotlib.pyplot as plt\n",
    "import seaborn as sns\n",
    "import numpy as np\n",
    "from torchvision import transforms\n",
    "from torchvision.datasets import ImageFolder\n",
    "from PIL import Image"
   ]
  },
  {
   "cell_type": "code",
   "execution_count": null,
   "id": "34788235-09fd-4d4a-8d28-359559e17c56",
   "metadata": {},
   "outputs": [],
   "source": [
    "# Path to our dataset\n",
    "data_dir = \"D:/Data/cervical_cancer_data\"\n",
    "\n",
    "# Load dataset with ImageFolder\n",
    "train_dataset = ImageFolder(root=os.path.join(data_dir, 'train'))\n",
    "val_dataset = ImageFolder(root=os.path.join(data_dir, 'val'))\n",
    "test_dataset = ImageFolder(root=os.path.join(data_dir, 'test'))\n",
    "\n",
    "# Show detected classes\n",
    "print(f\"Detected classes: {train_dataset.classes}\")\n",
    "print(f\"Total images in train: {len(train_dataset)}\")\n",
    "print(f\"Total images in validation: {len(val_dataset)}\")\n",
    "print(f\"Total images in test: {len(test_dataset)}\")"
   ]
  },
  {
   "cell_type": "code",
   "execution_count": null,
   "id": "d79634aa-1f41-40d9-95e4-6197c6724bb9",
   "metadata": {},
   "outputs": [],
   "source": [
    "# Show random images from the training folder\n",
    "sample_images = random.choices(train_dataset.imgs, k=5)\n",
    "\n",
    "for img_path, label in sample_images:\n",
    "    img = Image.open(img_path)\n",
    "    plt.imshow(img)\n",
    "    plt.title(f\"Clase: {train_dataset.classes[label]}\")\n",
    "    plt.show()\n"
   ]
  },
  {
   "cell_type": "code",
   "execution_count": null,
   "id": "554a4204-6f13-45b8-a16e-c32826ab1a95",
   "metadata": {},
   "outputs": [],
   "source": [
    "def plot_class_distribution(dataset, title):\n",
    "    \"\"\"Plotting the class distribution for a dataset\"\"\"\n",
    "    class_counts = [0] * len(dataset.classes)\n",
    "    \n",
    "    for _, label in dataset.imgs:\n",
    "        class_counts[label] += 1\n",
    "\n",
    "    plt.figure(figsize=(10, 5))\n",
    "    sns.barplot(x=dataset.classes, y=class_counts, palette=\"viridis\", hue=dataset.classes, legend=False)\n",
    "    plt.title(title)\n",
    "    plt.xlabel('Classes')\n",
    "    plt.ylabel('Number of images')\n",
    "    plt.xticks(rotation=45)\n",
    "    plt.show()\n",
    "\n",
    "# Graficar la distribución de clases para cada conjunto\n",
    "plot_class_distribution(train_dataset, \"Train class distribution\")\n",
    "plot_class_distribution(val_dataset, \"Validation class distribution\")\n",
    "plot_class_distribution(test_dataset, \"Test class distribution\")\n"
   ]
  },
  {
   "cell_type": "code",
   "execution_count": null,
   "id": "4453cc9b-ac83-4ae6-9158-b3664443a3a9",
   "metadata": {},
   "outputs": [],
   "source": [
    "def get_image_statistics(dataset, num_samples=100):\n",
    "    \"\"\"Get basic statistics on image dimensions\"\"\"\n",
    "    widths, heights = [], []\n",
    "    \n",
    "    # Get random samples\n",
    "    sample_images = random.choices(dataset.imgs, k=num_samples)\n",
    "    \n",
    "    for img_path, _ in sample_images:\n",
    "        img = Image.open(img_path)\n",
    "        width, height = img.size\n",
    "        widths.append(width)\n",
    "        heights.append(height)\n",
    "    \n",
    "    print(f\"Media de ancho: {np.mean(widths):.2f}, Desviación estándar: {np.std(widths):.2f}\")\n",
    "    print(f\"Media de alto: {np.mean(heights):.2f}, Desviación estándar: {np.std(heights):.2f}\")\n",
    "    \n",
    "    plt.figure(figsize=(12, 5))\n",
    "    sns.histplot(widths, kde=True, color=\"blue\", label=\"Width\")\n",
    "    sns.histplot(heights, kde=True, color=\"orange\", label=\"Height\")\n",
    "    plt.title(\"Width and Height Distribution of Images\")\n",
    "    plt.xlabel('Size (px)')\n",
    "    plt.ylabel('Frequency')\n",
    "    plt.legend()\n",
    "    plt.show()\n",
    "\n",
    "# Obtener estadísticas para el dataset de train\n",
    "get_image_statistics(train_dataset)\n"
   ]
  },
  {
   "cell_type": "markdown",
   "id": "693da432-94d9-4806-b58c-e086bcadc8a5",
   "metadata": {},
   "source": [
    "# Conclusion\n",
    "- The dataset contains 5 classes distributed in a perfectly balanced manner.\n",
    "- All images have a resolution of 512x512, which fits well for the ResNet50 model (after transforms)\n",
    "- The folder structure is correct and no formatting errors were detected."
   ]
  }
 ],
 "metadata": {
  "kernelspec": {
   "display_name": "Python 3 (ipykernel)",
   "language": "python",
   "name": "python3"
  },
  "language_info": {
   "codemirror_mode": {
    "name": "ipython",
    "version": 3
   },
   "file_extension": ".py",
   "mimetype": "text/x-python",
   "name": "python",
   "nbconvert_exporter": "python",
   "pygments_lexer": "ipython3",
   "version": "3.8.10"
  }
 },
 "nbformat": 4,
 "nbformat_minor": 5
}
